{
 "cells": [
  {
   "cell_type": "code",
   "execution_count": 1,
   "metadata": {},
   "outputs": [],
   "source": [
    "import numpy as np\n",
    "import pandas as pd\n",
    "import matplotlib.pyplot as plt\n",
    "%matplotlib inline\n",
    "import tensorflow as tf\n",
    "from tensorflow import keras\n",
    "from tensorflow.keras import layers\n",
    "import warnings\n",
    "warnings.filterwarnings('ignore')\n",
    "import os\n",
    "from imageio import imread"
   ]
  },
  {
   "cell_type": "code",
   "execution_count": 2,
   "metadata": {},
   "outputs": [],
   "source": [
    "from keras.models import Sequential\n",
    "from keras.layers import Dense, Dropout, Flatten\n",
    "from keras.layers import Conv2D, MaxPooling2D\n",
    "from keras.utils import to_categorical\n",
    "from keras.preprocessing import image\n",
    "from sklearn.model_selection import train_test_split\n",
    "from keras.utils import to_categorical\n",
    "from tqdm import tqdm\n"
   ]
  },
  {
   "cell_type": "code",
   "execution_count": 6,
   "metadata": {},
   "outputs": [],
   "source": [
    "root_dir=os.path.abspath('../An-Exercises/data')\n",
    "im_dir=os.path.abspath('C:/Users/ARAD/Desktop/Data science/dataset/Identify the Digits/Images')\n",
    "seed=47\n",
    "rng=np.random.RandomState(seed)"
   ]
  },
  {
   "cell_type": "code",
   "execution_count": 4,
   "metadata": {},
   "outputs": [],
   "source": [
    "train=pd.read_csv(os.path.join(root_dir, 'train.csv'))\n",
    "test=pd.read_csv(os.path.join(root_dir,'test.csv'))\n",
    "submission=pd.read_csv(os.path.join(root_dir,'sample_submission.csv'))\n",
    "train_org=train.copy()\n",
    "test_org=test.copy()"
   ]
  },
  {
   "cell_type": "code",
   "execution_count": 7,
   "metadata": {},
   "outputs": [
    {
     "name": "stderr",
     "output_type": "stream",
     "text": [
      "100%|████████████████████████████████████████████████████████████████████████████| 49000/49000 [11:52<00:00, 68.81it/s]\n"
     ]
    }
   ],
   "source": [
    "temp_train=[]\n",
    "for im_name in tqdm(train['filename']):\n",
    "    im_path=os.path.join(im_dir, 'train', im_name)\n",
    "    im=imread(im_path).astype('float32')\n",
    "    temp_train.append(im)\n",
    "train_x=np.stack(temp_train)"
   ]
  },
  {
   "cell_type": "code",
   "execution_count": 8,
   "metadata": {},
   "outputs": [
    {
     "name": "stderr",
     "output_type": "stream",
     "text": [
      "100%|████████████████████████████████████████████████████████████████████████████| 21000/21000 [05:48<00:00, 60.30it/s]\n"
     ]
    }
   ],
   "source": [
    "temp_test=[]\n",
    "for im_name in tqdm(test['filename']):\n",
    "    im_path=os.path.join(im_dir, 'test', im_name)\n",
    "    im=imread(im_path).astype('float32')\n",
    "    temp_test.append(im)\n",
    "test_x=np.stack(temp_test)"
   ]
  }
 ],
 "metadata": {
  "kernelspec": {
   "display_name": "Python 3",
   "language": "python",
   "name": "python3"
  },
  "language_info": {
   "codemirror_mode": {
    "name": "ipython",
    "version": 3
   },
   "file_extension": ".py",
   "mimetype": "text/x-python",
   "name": "python",
   "nbconvert_exporter": "python",
   "pygments_lexer": "ipython3",
   "version": "3.7.6"
  }
 },
 "nbformat": 4,
 "nbformat_minor": 4
}
